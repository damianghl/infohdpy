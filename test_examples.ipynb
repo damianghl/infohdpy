{
 "cells": [
  {
   "cell_type": "code",
   "execution_count": 1,
   "metadata": {},
   "outputs": [],
   "source": [
    "from info_hdp import InfoHDP\n",
    "import numpy as np\n",
    "from scipy.stats import beta, dirichlet"
   ]
  },
  {
   "cell_type": "code",
   "execution_count": 22,
   "metadata": {},
   "outputs": [
    {
     "name": "stdout",
     "output_type": "stream",
     "text": [
      "Sample entropy: 0.8033149761408755\n",
      "Naive mutual information: 0.6365141682948128\n",
      "True mutual information: 0.2650296269035274\n"
     ]
    }
   ],
   "source": [
    "# Generate sample data\n",
    "alpha, beta = 1.0, 0.5\n",
    "pij = InfoHDP.gen_prior_pij(alpha, beta, 1, 20)\n",
    "samples = InfoHDP.gen_samples_prior(pij[0], 15, 20)\n",
    "\n",
    "# Compute various statistics\n",
    "print(f\"Sample entropy: {InfoHDP.smaxlik(samples)}\")\n",
    "print(f\"Naive mutual information: {InfoHDP.inaive(samples)}\")\n",
    "\n",
    "# True mutual information\n",
    "true_mi = InfoHDP.itrue(pij[0])\n",
    "print(f\"True mutual information: {true_mi}\")"
   ]
  },
  {
   "cell_type": "code",
   "execution_count": 25,
   "metadata": {},
   "outputs": [],
   "source": [
    "import pandas as pd\n",
    "\n",
    "# Assuming pij[0] is your vector to be exported\n",
    "dfp = pd.DataFrame(pij[0])\n",
    "dfs = pd.DataFrame(samples)\n",
    "\n",
    "# Save to CSV without index\n",
    "dfp.to_csv('pij0.csv', index=False, header=False)\n",
    "dfs.to_csv('samples0.csv', index=False, header=False)"
   ]
  },
  {
   "cell_type": "code",
   "execution_count": null,
   "metadata": {},
   "outputs": [],
   "source": []
  }
 ],
 "metadata": {
  "kernelspec": {
   "display_name": "tp0",
   "language": "python",
   "name": "python3"
  },
  "language_info": {
   "codemirror_mode": {
    "name": "ipython",
    "version": 3
   },
   "file_extension": ".py",
   "mimetype": "text/x-python",
   "name": "python",
   "nbconvert_exporter": "python",
   "pygments_lexer": "ipython3",
   "version": "3.9.19"
  }
 },
 "nbformat": 4,
 "nbformat_minor": 2
}
