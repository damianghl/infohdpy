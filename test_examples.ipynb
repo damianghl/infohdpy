{
 "cells": [
  {
   "cell_type": "code",
   "execution_count": 1,
   "metadata": {},
   "outputs": [],
   "source": [
    "from info_hdp import InfoHDP\n",
    "import numpy as np\n",
    "from scipy import stats, special, optimize, integrate\n",
    "from typing import List, Tuple, Union\n",
    "import ndd"
   ]
  },
  {
   "cell_type": "code",
   "execution_count": 9,
   "metadata": {},
   "outputs": [
    {
     "name": "stdout",
     "output_type": "stream",
     "text": [
      "True entropy: 3.624322762399706\n",
      "Naive entropy: 3.052878602840477\n",
      "NSB entropy (infoHDP): (3.692469718104957, 0.19932029874217316)\n",
      "NSB entropy (ndd with K): (3.6859154845267246, 0.22881575701530027)\n",
      "NSB entropy (ndd w/o K): (3.6937754160107374, 0.23280549445093177)\n"
     ]
    }
   ],
   "source": [
    "# Set the seed\n",
    "np.random.seed(1)\n",
    "\n",
    "# Generate sample data\n",
    "alpha, beta, Ns, M = 10.0, 0.5, 1000, 50\n",
    "pij = InfoHDP.gen_prior_pij(alpha, beta, 1, Ns)\n",
    "samples = InfoHDP.gen_samples_prior(pij[0], M, Ns)\n",
    "\n",
    "# Compute various statistics\n",
    "print(f\"True entropy: {InfoHDP.strue(pij[0])}\")\n",
    "print(f\"Naive entropy: {InfoHDP.smaxlik(samples)}\")\n",
    "\n",
    "# dkmz = InfoHDP.dkm2(samples)\n",
    "# kz = len(np.unique(samples))\n",
    "# az = InfoHDP.asol(M, kz)\n",
    "# ead, eau = InfoHDP.intEa(az, M, kz)\n",
    "# sigea = np.sqrt(-InfoHDP.D2expalogL(np.log(az), M, kz))\n",
    "\n",
    "# log_az = np.log(az)\n",
    "# logLa_az = InfoHDP.logLa(az, M, kz)\n",
    "\n",
    "# def integrand_normalization(log_x):\n",
    "#     return np.exp(InfoHDP.logLa(np.exp(log_x), M, kz)-logLa_az)\n",
    "\n",
    "# norm_const, norm_error = integrate.quad(integrand_normalization, ead, eau)\n",
    "\n",
    "# print(az, ead, eau, sigea, norm_const, integrand_normalization(log_az))\n",
    "\n",
    "# print(InfoHDP.logLa(az, M, kz),logLa_az)\n",
    "# print(InfoHDP.logLa(np.exp(log_az), M, kz),logLa_az)\n",
    "\n",
    "print(f\"NSB entropy (infoHDP): {InfoHDP.Sint(samples)}\")\n",
    "\n",
    "unique, counts = np.unique(samples, return_counts=True)\n",
    "print(f\"NSB entropy (ndd with K): {ndd.entropy(counts, k=Ns, return_std=True)}\")\n",
    "print(f\"NSB entropy (ndd w/o K): {ndd.entropy(counts, return_std=True)}\")\n"
   ]
  },
  {
   "cell_type": "code",
   "execution_count": 3,
   "metadata": {},
   "outputs": [],
   "source": [
    "import pandas as pd\n",
    "\n",
    "# Assuming pij[0] is your vector to be exported\n",
    "dfp = pd.DataFrame(pij[0])\n",
    "dfs = pd.DataFrame(samples)\n",
    "\n",
    "# Save to CSV without index\n",
    "dfp.to_csv('pij0.csv', index=False, header=False)\n",
    "dfs.to_csv('samples0.csv', index=False, header=False)"
   ]
  },
  {
   "cell_type": "code",
   "execution_count": 4,
   "metadata": {},
   "outputs": [
    {
     "name": "stdout",
     "output_type": "stream",
     "text": [
      "200\n",
      "[(1, 14), (2, 6), (3, 4), (4, 5), (5, 1), (6, 2), (11, 1), (14, 1), (21, 1), (25, 2), (29, 1)]\n",
      "38\n",
      "13.639064600766394\n",
      "-809.71039405756\n",
      "3.1472457205710556\n"
     ]
    }
   ],
   "source": [
    "# Internal calculations of Sint\n",
    "nn = len(samples)\n",
    "dkmz = InfoHDP.dkm2(samples)\n",
    "kz = len(np.unique(samples))\n",
    "az = InfoHDP.asol(nn, kz)\n",
    "logLaz=InfoHDP.logLa(az, nn, kz)\n",
    "spostz=InfoHDP.Spost(az, nn, dkmz)\n",
    "print(nn)\n",
    "print(dkmz)\n",
    "print(kz)\n",
    "print(az)\n",
    "print(logLaz)\n",
    "print(spostz)"
   ]
  },
  {
   "cell_type": "code",
   "execution_count": 5,
   "metadata": {},
   "outputs": [
    {
     "name": "stdout",
     "output_type": "stream",
     "text": [
      "True mutual information: 0.3372\n",
      "Naive mutual information: 0.5332\n",
      "NSB Mutual Information estimate: 0.5368\n",
      "InfoHDP MAP Mutual Information estimate: 0.5223\n",
      "InfoHDP (integration in beta) Mutual Information estimate: (0.5217095836422757, 0.011535389637468096, 0.011454257095022851)\n"
     ]
    }
   ],
   "source": [
    "# True mutual information\n",
    "print(f\"True mutual information: {InfoHDP.itrue(pij[0]):.4f}\")\n",
    "\n",
    "# Compute various statistics\n",
    "print(f\"Naive mutual information: {InfoHDP.inaive(samples):.4f}\")\n",
    "nsb_mi, sx, sy, sxy = InfoHDP.Insb(samples)\n",
    "print(f\"NSB Mutual Information estimate: {nsb_mi:.4f}\")\n",
    "print(f\"InfoHDP MAP Mutual Information estimate: {InfoHDP.IhdpMAP(samples):.4f}\")\n",
    "print(f\"InfoHDP (integration in beta) Mutual Information estimate: {InfoHDP.IhdpIntb(samples)}\")\n"
   ]
  },
  {
   "cell_type": "code",
   "execution_count": null,
   "metadata": {},
   "outputs": [],
   "source": []
  }
 ],
 "metadata": {
  "kernelspec": {
   "display_name": "tp0",
   "language": "python",
   "name": "python3"
  },
  "language_info": {
   "codemirror_mode": {
    "name": "ipython",
    "version": 3
   },
   "file_extension": ".py",
   "mimetype": "text/x-python",
   "name": "python",
   "nbconvert_exporter": "python",
   "pygments_lexer": "ipython3",
   "version": "3.9.19"
  }
 },
 "nbformat": 4,
 "nbformat_minor": 2
}
