{
 "cells": [
  {
   "cell_type": "code",
   "execution_count": 6,
   "metadata": {},
   "outputs": [],
   "source": [
    "from info_hdp import InfoHDP\n",
    "import numpy as np\n",
    "from scipy import stats, special\n",
    "from scipy.optimize import minimize\n",
    "from scipy import optimize, integrate\n",
    "from typing import List, Tuple, Union"
   ]
  },
  {
   "cell_type": "code",
   "execution_count": 8,
   "metadata": {},
   "outputs": [
    {
     "name": "stdout",
     "output_type": "stream",
     "text": [
      "Sample entropy: 0.9701157839869381\n",
      "Naive mutual information: 0.6909233093138181\n",
      "True mutual information: 0.3774609304602785\n"
     ]
    }
   ],
   "source": [
    "# Generate sample data\n",
    "alpha, beta = 1.0, 0.5\n",
    "pij = InfoHDP.gen_prior_pij(alpha, beta, 1, 20)\n",
    "samples = InfoHDP.gen_samples_prior(pij[0], 15, 20)\n",
    "\n",
    "# Compute various statistics\n",
    "print(f\"Sample entropy: {InfoHDP.smaxlik(samples)}\")\n",
    "print(f\"Naive mutual information: {InfoHDP.inaive(samples)}\")\n",
    "\n",
    "# True mutual information\n",
    "true_mi = InfoHDP.itrue(pij[0])\n",
    "print(f\"True mutual information: {true_mi}\")"
   ]
  },
  {
   "cell_type": "code",
   "execution_count": 9,
   "metadata": {},
   "outputs": [],
   "source": [
    "import pandas as pd\n",
    "\n",
    "# Assuming pij[0] is your vector to be exported\n",
    "dfp = pd.DataFrame(pij[0])\n",
    "dfs = pd.DataFrame(samples)\n",
    "\n",
    "# Save to CSV without index\n",
    "dfp.to_csv('pij0.csv', index=False, header=False)\n",
    "dfs.to_csv('samples0.csv', index=False, header=False)"
   ]
  },
  {
   "cell_type": "code",
   "execution_count": 10,
   "metadata": {},
   "outputs": [
    {
     "name": "stdout",
     "output_type": "stream",
     "text": [
      "NSB Entropy estimate: 0.0000 ± 0.0000\n",
      "NSB Mutual Information estimate: 0.0000\n",
      "InfoHDP S(Y|X) estimate: 0.0740\n"
     ]
    }
   ],
   "source": [
    "# Compute NSB entropy estimate\n",
    "nsb_entropy, nsb_std = InfoHDP.Sint(samples)\n",
    "print(f\"NSB Entropy estimate: {nsb_entropy:.4f} ± {nsb_std:.4f}\")\n",
    "\n",
    "# Compute NSB mutual information estimate\n",
    "nsb_mi, sx, sy, sxy = InfoHDP.Insb(samples)\n",
    "print(f\"NSB Mutual Information estimate: {nsb_mi:.4f}\")\n",
    "\n",
    "# Compute InfoHDP estimates\n",
    "n10 = InfoHDP.n10sam(samples)\n",
    "kx = len(n10)\n",
    "bb = InfoHDP.bsol(kx, n10)\n",
    "sy_cond_x = InfoHDP.SYconX(alpha, bb, len(samples), n10)\n",
    "print(f\"InfoHDP S(Y|X) estimate: {sy_cond_x:.4f}\")"
   ]
  },
  {
   "cell_type": "code",
   "execution_count": 5,
   "metadata": {},
   "outputs": [
    {
     "name": "stdout",
     "output_type": "stream",
     "text": [
      "[  9  10 -12 -12  10  10  10  17  -5 -11   9 -12 -11  -5 -12]\n"
     ]
    }
   ],
   "source": [
    "print(samples)"
   ]
  },
  {
   "cell_type": "code",
   "execution_count": null,
   "metadata": {},
   "outputs": [],
   "source": []
  }
 ],
 "metadata": {
  "kernelspec": {
   "display_name": "tp0",
   "language": "python",
   "name": "python3"
  },
  "language_info": {
   "codemirror_mode": {
    "name": "ipython",
    "version": 3
   },
   "file_extension": ".py",
   "mimetype": "text/x-python",
   "name": "python",
   "nbconvert_exporter": "python",
   "pygments_lexer": "ipython3",
   "version": "3.9.19"
  }
 },
 "nbformat": 4,
 "nbformat_minor": 2
}
