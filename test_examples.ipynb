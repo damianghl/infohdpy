{
 "cells": [
  {
   "cell_type": "code",
   "execution_count": 21,
   "metadata": {},
   "outputs": [],
   "source": [
    "from info_hdp import InfoHDP\n",
    "import numpy as np\n",
    "from scipy import stats, special, optimize, integrate\n",
    "from typing import List, Tuple, Union"
   ]
  },
  {
   "cell_type": "code",
   "execution_count": 27,
   "metadata": {},
   "outputs": [
    {
     "name": "stdout",
     "output_type": "stream",
     "text": [
      "Sample entropy: 2.9654518590350656\n",
      "Naive mutual information: 0.6268694575724263\n",
      "True mutual information: 0.17950024407836906\n"
     ]
    }
   ],
   "source": [
    "# Generate sample data\n",
    "alpha, beta, Ns, M = 10.0, 0.5, 200, 50\n",
    "pij = InfoHDP.gen_prior_pij(alpha, beta, 1, Ns)\n",
    "samples = InfoHDP.gen_samples_prior(pij[0], M, Ns)\n",
    "\n",
    "# Compute various statistics\n",
    "print(f\"Sample entropy: {InfoHDP.smaxlik(samples)}\")\n",
    "print(f\"Naive mutual information: {InfoHDP.inaive(samples)}\")\n",
    "\n",
    "# True mutual information\n",
    "true_mi = InfoHDP.itrue(pij[0])\n",
    "print(f\"True mutual information: {true_mi}\")"
   ]
  },
  {
   "cell_type": "code",
   "execution_count": 28,
   "metadata": {},
   "outputs": [],
   "source": [
    "import pandas as pd\n",
    "\n",
    "# Assuming pij[0] is your vector to be exported\n",
    "dfp = pd.DataFrame(pij[0])\n",
    "dfs = pd.DataFrame(samples)\n",
    "\n",
    "# Save to CSV without index\n",
    "dfp.to_csv('pij0.csv', index=False, header=False)\n",
    "dfs.to_csv('samples0.csv', index=False, header=False)"
   ]
  },
  {
   "cell_type": "code",
   "execution_count": 29,
   "metadata": {},
   "outputs": [
    {
     "name": "stdout",
     "output_type": "stream",
     "text": [
      "50\n",
      "[(1, 12), (2, 5), (3, 4), (4, 1), (5, 1), (7, 1)]\n",
      "24\n",
      "17.502439252246685\n",
      "-114.85878600911136\n",
      "3.359743408622875\n"
     ]
    }
   ],
   "source": [
    "# Internal calculations of Sint\n",
    "nn = len(samples)\n",
    "dkmz = InfoHDP.dkm2(samples)\n",
    "kz = len(np.unique(samples))\n",
    "az = InfoHDP.asol(nn, kz)\n",
    "logLaz=InfoHDP.logLa(az, nn, kz)\n",
    "spostz=InfoHDP.Spost(az, nn, dkmz)\n",
    "print(nn)\n",
    "print(dkmz)\n",
    "print(kz)\n",
    "print(az)\n",
    "print(logLaz)\n",
    "print(spostz)"
   ]
  },
  {
   "cell_type": "code",
   "execution_count": 30,
   "metadata": {},
   "outputs": [
    {
     "name": "stdout",
     "output_type": "stream",
     "text": [
      "NSB Entropy estimate: nan ± nan\n",
      "NSB Mutual Information estimate: nan\n",
      "[[2, 0], [1, 0], [0, 1], [0, 7], [2, 0], [0, 1], [0, 1], [0, 3], [1, 0], [0, 1], [1, 0], [0, 5], [0, 1], [1, 0], [0, 3], [0, 1], [0, 2], [0, 3], [0, 2], [1, 0], [1, 0], [2, 0], [4, 0], [0, 3]] 0.051642668286065715\n",
      "InfoHDP S(Y|X) estimate: 0.0539\n"
     ]
    },
    {
     "name": "stderr",
     "output_type": "stream",
     "text": [
      "/home/jimy875/infohdpy/info_hdp.py:141: RuntimeWarning: invalid value encountered in log\n",
      "  return (k - 1) * np.log(x) + special.gammaln(1 + x) - special.gammaln(n + x)\n",
      "/home/jimy875/infohdpy/info_hdp.py:229: IntegrationWarning: The occurrence of roundoff error is detected, which prevents \n",
      "  the requested tolerance from being achieved.  The error may be \n",
      "  underestimated.\n",
      "  norm_const, norm_error = integrate.quad(integrand_normalization, lower_bound, upper_bound)\n",
      "/home/jimy875/infohdpy/info_hdp.py:242: RuntimeWarning: invalid value encountered in sqrt\n",
      "  dsint = np.sqrt(sint2 - sint**2)\n"
     ]
    }
   ],
   "source": [
    "# Compute NSB entropy estimate\n",
    "nsb_entropy, nsb_std = InfoHDP.Sint(samples)\n",
    "print(f\"NSB Entropy estimate: {nsb_entropy:.4f} ± {nsb_std:.4f}\")\n",
    "\n",
    "# Compute NSB mutual information estimate\n",
    "nsb_mi, sx, sy, sxy = InfoHDP.Insb(samples)\n",
    "print(f\"NSB Mutual Information estimate: {nsb_mi:.4f}\")\n",
    "\n",
    "# Compute InfoHDP estimates\n",
    "n10 = InfoHDP.n10sam(samples)\n",
    "kx = len(n10)\n",
    "bb = InfoHDP.bsol(kx, n10)\n",
    "sy_cond_x = InfoHDP.SYconX(alpha, bb, len(samples), n10)\n",
    "print(n10, bb)\n",
    "print(f\"InfoHDP S(Y|X) estimate: {sy_cond_x:.4f}\")"
   ]
  },
  {
   "cell_type": "code",
   "execution_count": 31,
   "metadata": {},
   "outputs": [
    {
     "name": "stdout",
     "output_type": "stream",
     "text": [
      "True mutual information: 0.1795\n",
      "Naive mutual information: 0.6269\n",
      "NSB Mutual Information estimate: nan\n",
      "InfoHDP MAP Mutual Information estimate: 0.5705\n",
      "InfoHDP (integration in beta) Mutual Information estimate: (0.5655693703510217, 0.049775247127986574, 0.061300087221404606)\n"
     ]
    }
   ],
   "source": [
    "# True mutual information\n",
    "print(f\"True mutual information: {InfoHDP.itrue(pij[0]):.4f}\")\n",
    "\n",
    "# Compute various statistics\n",
    "print(f\"Naive mutual information: {InfoHDP.inaive(samples):.4f}\")\n",
    "nsb_mi, sx, sy, sxy = InfoHDP.Insb(samples)\n",
    "print(f\"NSB Mutual Information estimate: {nsb_mi:.4f}\")\n",
    "print(f\"InfoHDP MAP Mutual Information estimate: {InfoHDP.IhdpMAP(samples):.4f}\")\n",
    "print(f\"InfoHDP (integration in beta) Mutual Information estimate: {InfoHDP.IhdpIntb(samples)}\")\n"
   ]
  },
  {
   "cell_type": "code",
   "execution_count": 34,
   "metadata": {},
   "outputs": [
    {
     "name": "stdout",
     "output_type": "stream",
     "text": [
      "[-198 -147 -143 -122 -115  -92  -81  -52  -50  -32  -24  -23   -6   -5\n",
      "    1    2   12   37   51   91  149  150  191  192]\n",
      "[3 2 3 2 1 3 1 5 1 3 1 1 7 1 2 1 2 1 1 1 1 1 2 4]\n"
     ]
    },
    {
     "data": {
      "text/plain": [
       "(3.4645546219623773, 0.19003929138278977)"
      ]
     },
     "execution_count": 34,
     "metadata": {},
     "output_type": "execute_result"
    }
   ],
   "source": [
    "import ndd\n",
    "\n",
    "unique, counts = np.unique(samples, return_counts=True)\n",
    "print(unique)\n",
    "print(counts)\n",
    "ndd.entropy(counts, k=100, return_std=True)"
   ]
  },
  {
   "cell_type": "code",
   "execution_count": null,
   "metadata": {},
   "outputs": [],
   "source": []
  }
 ],
 "metadata": {
  "kernelspec": {
   "display_name": "tp0",
   "language": "python",
   "name": "python3"
  },
  "language_info": {
   "codemirror_mode": {
    "name": "ipython",
    "version": 3
   },
   "file_extension": ".py",
   "mimetype": "text/x-python",
   "name": "python",
   "nbconvert_exporter": "python",
   "pygments_lexer": "ipython3",
   "version": "3.9.19"
  }
 },
 "nbformat": 4,
 "nbformat_minor": 2
}
