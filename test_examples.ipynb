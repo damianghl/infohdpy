{
 "cells": [
  {
   "cell_type": "code",
   "execution_count": 1,
   "metadata": {},
   "outputs": [],
   "source": [
    "from info_hdp import InfoHDP\n",
    "import numpy as np\n",
    "from scipy import stats, special, optimize, integrate\n",
    "from typing import List, Tuple, Union"
   ]
  },
  {
   "cell_type": "code",
   "execution_count": 3,
   "metadata": {},
   "outputs": [
    {
     "name": "stdout",
     "output_type": "stream",
     "text": [
      "Sample entropy: 1.5395625032401634\n",
      "Naive mutual information: 0.5004024235381879\n",
      "True mutual information: 0.2733820407888865\n"
     ]
    }
   ],
   "source": [
    "# Generate sample data\n",
    "alpha, beta, Ns, M = 1.0, 0.5, 200, 50\n",
    "pij = InfoHDP.gen_prior_pij(alpha, beta, 1, Ns)\n",
    "samples = InfoHDP.gen_samples_prior(pij[0], M, Ns)\n",
    "\n",
    "# Compute various statistics\n",
    "print(f\"Sample entropy: {InfoHDP.smaxlik(samples)}\")\n",
    "print(f\"Naive mutual information: {InfoHDP.inaive(samples)}\")\n",
    "\n",
    "# True mutual information\n",
    "true_mi = InfoHDP.itrue(pij[0])\n",
    "print(f\"True mutual information: {true_mi}\")"
   ]
  },
  {
   "cell_type": "code",
   "execution_count": 4,
   "metadata": {},
   "outputs": [],
   "source": [
    "import pandas as pd\n",
    "\n",
    "# Assuming pij[0] is your vector to be exported\n",
    "dfp = pd.DataFrame(pij[0])\n",
    "dfs = pd.DataFrame(samples)\n",
    "\n",
    "# Save to CSV without index\n",
    "dfp.to_csv('pij0.csv', index=False, header=False)\n",
    "dfs.to_csv('samples0.csv', index=False, header=False)"
   ]
  },
  {
   "cell_type": "code",
   "execution_count": 5,
   "metadata": {},
   "outputs": [
    {
     "name": "stdout",
     "output_type": "stream",
     "text": [
      "50\n",
      "[(1, 2), (2, 3), (3, 1), (4, 1), (8, 1), (27, 1)]\n",
      "9\n",
      "2.9405279538657\n",
      "-145.77903796514119\n",
      "1.659288283607676\n"
     ]
    }
   ],
   "source": [
    "# Internal calculations of Sint\n",
    "nn = len(samples)\n",
    "dkmz = InfoHDP.dkm2(samples)\n",
    "kz = len(np.unique(samples))\n",
    "az = InfoHDP.asol(nn, kz)\n",
    "logLaz=InfoHDP.logLa(az, nn, kz)\n",
    "spostz=InfoHDP.Spost(az, nn, dkmz)\n",
    "print(nn)\n",
    "print(dkmz)\n",
    "print(kz)\n",
    "print(az)\n",
    "print(logLaz)\n",
    "print(spostz)"
   ]
  },
  {
   "cell_type": "code",
   "execution_count": 6,
   "metadata": {},
   "outputs": [
    {
     "name": "stdout",
     "output_type": "stream",
     "text": [
      "NSB Entropy estimate: 1.6651 ± 0.0798\n",
      "NSB Mutual Information estimate: 0.5142\n",
      "[[27, 0], [2, 0], [2, 0], [2, 0], [0, 1], [4, 0], [3, 0], [0, 1], [0, 8]] 0.06600852216682378\n",
      "InfoHDP S(Y|X) estimate: 0.0313\n"
     ]
    }
   ],
   "source": [
    "# Compute NSB entropy estimate\n",
    "nsb_entropy, nsb_std = InfoHDP.Sint(samples)\n",
    "print(f\"NSB Entropy estimate: {nsb_entropy:.4f} ± {nsb_std:.4f}\")\n",
    "\n",
    "# Compute NSB mutual information estimate\n",
    "nsb_mi, sx, sy, sxy = InfoHDP.Insb(samples)\n",
    "print(f\"NSB Mutual Information estimate: {nsb_mi:.4f}\")\n",
    "\n",
    "# Compute InfoHDP estimates\n",
    "n10 = InfoHDP.n10sam(samples)\n",
    "kx = len(n10)\n",
    "bb = InfoHDP.bsol(kx, n10)\n",
    "sy_cond_x = InfoHDP.SYconX(alpha, bb, len(samples), n10)\n",
    "print(n10, bb)\n",
    "print(f\"InfoHDP S(Y|X) estimate: {sy_cond_x:.4f}\")"
   ]
  },
  {
   "cell_type": "code",
   "execution_count": 8,
   "metadata": {},
   "outputs": [
    {
     "name": "stdout",
     "output_type": "stream",
     "text": [
      "True mutual information: 0.2734\n",
      "Naive mutual information: 0.5004\n",
      "NSB Mutual Information estimate: 0.5142\n",
      "InfoHDP MAP Mutual Information estimate: 0.4668\n",
      "InfoHDP (integration in beta) Mutual Information estimate: (0.4634377758389177, 0.039931463649573035, 0.03696464769927016)\n"
     ]
    }
   ],
   "source": [
    "# True mutual information\n",
    "print(f\"True mutual information: {InfoHDP.itrue(pij[0]):.4f}\")\n",
    "\n",
    "# Compute various statistics\n",
    "print(f\"Naive mutual information: {InfoHDP.inaive(samples):.4f}\")\n",
    "nsb_mi, sx, sy, sxy = InfoHDP.Insb(samples)\n",
    "print(f\"NSB Mutual Information estimate: {nsb_mi:.4f}\")\n",
    "print(f\"InfoHDP MAP Mutual Information estimate: {InfoHDP.IhdpMAP(samples):.4f}\")\n",
    "print(f\"InfoHDP (integration in beta) Mutual Information estimate: {InfoHDP.IhdpIntb(samples)}\")\n"
   ]
  },
  {
   "cell_type": "code",
   "execution_count": null,
   "metadata": {},
   "outputs": [],
   "source": []
  }
 ],
 "metadata": {
  "kernelspec": {
   "display_name": "tp0",
   "language": "python",
   "name": "python3"
  },
  "language_info": {
   "codemirror_mode": {
    "name": "ipython",
    "version": 3
   },
   "file_extension": ".py",
   "mimetype": "text/x-python",
   "name": "python",
   "nbconvert_exporter": "python",
   "pygments_lexer": "ipython3",
   "version": "3.9.19"
  }
 },
 "nbformat": 4,
 "nbformat_minor": 2
}
