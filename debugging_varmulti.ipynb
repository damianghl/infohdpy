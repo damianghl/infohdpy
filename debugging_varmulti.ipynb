{
 "cells": [
  {
   "cell_type": "code",
   "execution_count": 1,
   "metadata": {},
   "outputs": [],
   "source": [
    "import numpy as np\n",
    "import matplotlib.pyplot as plt\n",
    "from scipy import stats, special, optimize\n",
    "\n",
    "from infohdp.generators import gen_prior_pij, gen_prior_pij_t, gen_samples_prior, gen_samples_prior_t\n",
    "from infohdp.core import entropy_true, mutual_information_true\n",
    "from infohdp.utils import count_nxy_multiclass\n",
    "from infohdp.estimators import NaiveEstimator, NSBEstimator, BinaryInfoHDPEstimator, MulticlassInfoHDPEstimator, BinaryFullInfoHDPEstimator, MulticlassFullInfoHDPEstimator\n",
    "\n",
    "# Or import the whole package as \"import infohdp\""
   ]
  },
  {
   "cell_type": "code",
   "execution_count": 2,
   "metadata": {},
   "outputs": [
    {
     "name": "stdout",
     "output_type": "stream",
     "text": [
      "Naive entropy: 2.6943\n",
      "NSB entropy: 2.9699 ± 0.1485\n",
      "True mutual information: 0.3830\n",
      "Naive info: 0.3543\n",
      "NSB info: 0.3465 ± 0.2180\n",
      "Ihdp(MAP)T info: 0.3037\n",
      "0.031660412848966056 0.030633514703841406\n",
      "Ihdp full multiclass info: 0.3011 ± 0.0320\n"
     ]
    }
   ],
   "source": [
    "# Set the seed\n",
    "np.random.seed(0)\n",
    "\n",
    "alpha = 10.0\n",
    "beta = 0.1\n",
    "Ns = 1000\n",
    "\n",
    "qy = [0.5, 0.5]  # Example marginal distribution for Y\n",
    "pi, pjdadoi, pij_t = gen_prior_pij_t(alpha, beta, qy, Ns)\n",
    "\n",
    "M = 100\n",
    "samples_t = gen_samples_prior_t(pi, pjdadoi, M, Ns)\n",
    "\n",
    "# Create instances of Estimators for multiclass case\n",
    "naive_estimator = NaiveEstimator()\n",
    "nsb_estimator = NSBEstimator()\n",
    "ihdpt_estimator = MulticlassInfoHDPEstimator()\n",
    "ihdpfull_estimator = MulticlassFullInfoHDPEstimator()\n",
    "\n",
    "print(f\"Naive entropy: {naive_estimator.estimate_entropy(samples_t):.4f}\")\n",
    "s_nsb, ds_nsb = nsb_estimator.estimate_entropy(samples_t)\n",
    "print(f\"NSB entropy: {s_nsb:.4f} ± {ds_nsb:.4f}\")\n",
    "\n",
    "print(f\"True mutual information: {mutual_information_true(pij_t):.4f}\")\n",
    "print(f\"Naive info: {naive_estimator.estimate_mutual_information(samples_t):.4f}\")\n",
    "i_nsb, di_nsb = nsb_estimator.estimate_mutual_information(samples_t)\n",
    "print(f\"NSB info: {i_nsb:.4f} ± {di_nsb:.4f}\")\n",
    "print(f\"Ihdp(MAP)T info: {ihdpt_estimator.estimate_mutual_information(samples_t):.4f}\")\n",
    "\n",
    "i_hdp, di_hdp = ihdpfull_estimator.estimate_mutual_information(samples_t)\n",
    "print(f\"Ihdp full multiclass info: {i_hdp:.4f} ± {di_hdp:.4f}\")\n"
   ]
  },
  {
   "cell_type": "code",
   "execution_count": null,
   "metadata": {},
   "outputs": [],
   "source": [
    "#print(samples_t)\n",
    "#print(count_nxy_multiclass(samples_t))"
   ]
  },
  {
   "cell_type": "code",
   "execution_count": 3,
   "metadata": {},
   "outputs": [
    {
     "name": "stdout",
     "output_type": "stream",
     "text": [
      "Ihdp info: 0.2984\n",
      "0.03221310576355716 0.030068332523772934\n",
      "Ihdp full info: 0.2980 ± 0.0463\n"
     ]
    }
   ],
   "source": [
    "samples = []\n",
    "for x, y in samples_t:\n",
    "    if y == 1:\n",
    "        samples.append(x)\n",
    "    else:\n",
    "        samples.append(-x)\n",
    "\n",
    "\n",
    "ibinary_hdp_estimator = BinaryInfoHDPEstimator()\n",
    "ibinary_hdpfull_estimator = BinaryFullInfoHDPEstimator()\n",
    "\n",
    "print(f\"Ihdp info: {ibinary_hdp_estimator.estimate_mutual_information(samples):.4f}\") #strange that this is different, maybe the error here?\n",
    "\n",
    "i_hdp, di_hdp = ibinary_hdpfull_estimator.estimate_mutual_information(samples)\n",
    "print(f\"Ihdp full info: {i_hdp:.4f} ± {di_hdp:.4f}\")"
   ]
  },
  {
   "cell_type": "code",
   "execution_count": null,
   "metadata": {},
   "outputs": [],
   "source": [
    "import pandas as pd\n",
    "\n",
    "#dfp = pd.DataFrame(pij[0])\n",
    "dfs = pd.DataFrame(samples)\n",
    "\n",
    "# Save to CSV to compare with Mathematica package\n",
    "#dfp.to_csv('data_mathe/pij0.csv', index=False, header=False)\n",
    "dfs.to_csv('data_mathe/samples0.csv', indexprint(count_nxy_multiclass(samples_t))=False, header=False)\n",
    "\n",
    "dfpt = pd.DataFrame(pij_t)\n",
    "dfst = pd.DataFrame(samples_t)\n",
    "\n",
    "# Save to CSV to compare with Mathematica package\n",
    "dfpt.to_csv('data_mathe/pij_t.csv', index=False, header=False)\n",
    "dfst.to_csv('data_mathe/samples_t.csv', index=False, header=False)\n",
    "\n"
   ]
  },
  {
   "cell_type": "code",
   "execution_count": null,
   "metadata": {},
   "outputs": [],
   "source": []
  }
 ],
 "metadata": {
  "kernelspec": {
   "display_name": "tp0",
   "language": "python",
   "name": "python3"
  },
  "language_info": {
   "codemirror_mode": {
    "name": "ipython",
    "version": 3
   },
   "file_extension": ".py",
   "mimetype": "text/x-python",
   "name": "python",
   "nbconvert_exporter": "python",
   "pygments_lexer": "ipython3",
   "version": "3.9.19"
  }
 },
 "nbformat": 4,
 "nbformat_minor": 2
}
