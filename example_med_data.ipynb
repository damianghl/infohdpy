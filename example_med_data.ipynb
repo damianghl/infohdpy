{
 "cells": [
  {
   "cell_type": "code",
   "execution_count": 1,
   "metadata": {},
   "outputs": [],
   "source": [
    "# Import necessary libraries\n",
    "from infohdp.estimators import MulticlassFullInfoHDPEstimator\n",
    "from sklearn.datasets import load_breast_cancer, load_diabetes\n",
    "import seaborn as sns\n",
    "import pandas as pd\n",
    "import numpy as np\n",
    "\n",
    "# Function to estimate mutual information\n",
    "def estimate_mi(samples):\n",
    "    estimator = MulticlassFullInfoHDPEstimator()\n",
    "    i_hdp, di_hdp = estimator.estimate_mutual_information(samples)\n",
    "    print(f\"Ihdp full multiclass, mutual information estimation [nats]: {i_hdp:.4f} ± {di_hdp:.4f}\")\n",
    "    \n",
    "# Function to display dataset statistics\n",
    "def display_dataset_statistics(samples, dataset_name):\n",
    "    x_values = [x for x, y in samples]\n",
    "    y_values = [y for x, y in samples]\n",
    "    num_samples = len(samples)\n",
    "    num_distinct_x = len(set(x_values))\n",
    "    num_distinct_y = len(set(y_values))\n",
    "    print(f\"{dataset_name} Dataset Statistics:\")\n",
    "    print(f\"Number of samples: {num_samples}\")\n",
    "    print(f\"Number of distinct elements in X: {num_distinct_x}\")\n",
    "    print(f\"Number of distinct elements in Y: {num_distinct_y}\")\n",
    "    print()"
   ]
  },
  {
   "cell_type": "code",
   "execution_count": 2,
   "metadata": {},
   "outputs": [
    {
     "name": "stdout",
     "output_type": "stream",
     "text": [
      "Breast Cancer Dataset Statistics:\n",
      "Number of samples: 569\n",
      "Number of distinct elements in X: 22\n",
      "Number of distinct elements in Y: 2\n",
      "\n",
      "Ihdp full multiclass, mutual information estimation [nats]: 0.3649 ± 0.0847\n"
     ]
    }
   ],
   "source": [
    "# Load and preprocess Breast Cancer dataset\n",
    "data_bc = load_breast_cancer()\n",
    "df_bc = pd.DataFrame(data_bc.data, columns=data_bc.feature_names)\n",
    "df_bc['target'] = data_bc.target\n",
    "samples_bc = list(zip(df_bc['mean radius'].astype(int), df_bc['target']))\n",
    "display_dataset_statistics(samples_bc, \"Breast Cancer\")\n",
    "estimate_mi(samples_bc)"
   ]
  },
  {
   "cell_type": "code",
   "execution_count": 3,
   "metadata": {},
   "outputs": [
    {
     "name": "stdout",
     "output_type": "stream",
     "text": [
      "Diabetes Dataset Dataset Statistics:\n",
      "Number of samples: 442\n",
      "Number of distinct elements in X: 40\n",
      "Number of distinct elements in Y: 4\n",
      "\n",
      "Ihdp full multiclass, mutual information estimation [nats]: 0.1801 ± 0.0993\n"
     ]
    }
   ],
   "source": [
    "# Load and preprocess Diabetes dataset\n",
    "data_diabetes = load_diabetes()\n",
    "df_diabetes = pd.DataFrame(data_diabetes.data, columns=data_diabetes.feature_names)\n",
    "df_diabetes['target'] = data_diabetes.target\n",
    "\n",
    "# Discretize the feature variable into 40 groups (percentiles)\n",
    "df_diabetes['bmi_percentile'] = pd.qcut(df_diabetes['bmi'], 40, labels=False)\n",
    "# Discretize the target variable into quartiles\n",
    "df_diabetes['target_quartile'] = pd.qcut(df_diabetes['target'], 4, labels=False)\n",
    "\n",
    "samples_diabetes = list(zip(df_diabetes['bmi_percentile'], df_diabetes['target_quartile']))\n",
    "display_dataset_statistics(samples_diabetes, \"Diabetes Dataset\")\n",
    "estimate_mi(samples_diabetes)"
   ]
  },
  {
   "cell_type": "code",
   "execution_count": null,
   "metadata": {},
   "outputs": [],
   "source": []
  }
 ],
 "metadata": {
  "kernelspec": {
   "display_name": "tp0",
   "language": "python",
   "name": "python3"
  },
  "language_info": {
   "codemirror_mode": {
    "name": "ipython",
    "version": 3
   },
   "file_extension": ".py",
   "mimetype": "text/x-python",
   "name": "python",
   "nbconvert_exporter": "python",
   "pygments_lexer": "ipython3",
   "version": "3.9.19"
  }
 },
 "nbformat": 4,
 "nbformat_minor": 2
}
